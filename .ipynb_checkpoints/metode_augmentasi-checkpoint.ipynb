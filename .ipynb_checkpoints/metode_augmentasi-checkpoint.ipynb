{
 "cells": [
  {
   "cell_type": "code",
   "execution_count": 7,
   "id": "baca064c-c361-40b6-bd7e-b5fe7e9d5a4a",
   "metadata": {},
   "outputs": [],
   "source": [
    "import tensorflow as tf\n",
    "from tensorflow.keras import layers, models\n",
    "from tensorflow.keras.preprocessing.image import ImageDataGenerator\n",
    "from tensorflow.keras.callbacks import EarlyStopping, ModelCheckpoint, ReduceLROnPlateau\n",
    "from sklearn.metrics import classification_report, confusion_matrix\n",
    "import numpy as np\n",
    "import matplotlib.pyplot as plt\n",
    "import os "
   ]
  },
  {
   "cell_type": "code",
   "execution_count": 11,
   "id": "da999c63-e42d-4645-810e-7437a623b926",
   "metadata": {},
   "outputs": [],
   "source": [
    "# **1. Preprocessing & Augmentasi Data**\n",
    "train_dir = 'D:/Semester 3/CertanMatkul/PROYEK/HEWAN/Hewan2/training'\n",
    "val_dir = 'D:/Semester 3/CertanMatkul/PROYEK/HEWAN/Hewan2/validation'\n",
    "test_dir = 'D:/Semester 3/CertanMatkul/PROYEK/HEWAN/Hewan2/test'"
   ]
  },
  {
   "cell_type": "code",
   "execution_count": 13,
   "id": "9114f740-f448-461b-bcab-f2dab3430e04",
   "metadata": {},
   "outputs": [],
   "source": [
    "# Parameter dataset\n",
    "img_size = 180\n",
    "batch_size = 32"
   ]
  },
  {
   "cell_type": "code",
   "execution_count": 17,
   "id": "bf2f6d12-3110-4fac-83d7-cc5c9bd03c8e",
   "metadata": {},
   "outputs": [],
   "source": [
    "# Augmentasi data\n",
    "train_datagen = ImageDataGenerator(\n",
    "    rescale=1./255,\n",
    "    rotation_range=30,\n",
    "    width_shift_range=0.2,\n",
    "    height_shift_range=0.2,\n",
    "    shear_range=0.2,\n",
    "    zoom_range=0.2,\n",
    "    horizontal_flip=True\n",
    ")\n",
    "\n",
    "val_test_datagen = ImageDataGenerator(rescale=1./255)"
   ]
  },
  {
   "cell_type": "code",
   "execution_count": 19,
   "id": "6069992b-974a-4275-8624-2a7853d036f1",
   "metadata": {},
   "outputs": [
    {
     "name": "stdout",
     "output_type": "stream",
     "text": [
      "Found 4000 images belonging to 4 classes.\n",
      "Found 4000 images belonging to 4 classes.\n",
      "Found 4000 images belonging to 4 classes.\n"
     ]
    }
   ],
   "source": [
    "# Load dataset\n",
    "train_dataset = train_datagen.flow_from_directory(\n",
    "    train_dir, target_size=(img_size, img_size), batch_size=batch_size, class_mode='sparse'\n",
    ")\n",
    "\n",
    "val_dataset = val_test_datagen.flow_from_directory(\n",
    "    val_dir, target_size=(img_size, img_size), batch_size=batch_size, class_mode='sparse'\n",
    ")\n",
    "\n",
    "test_dataset = val_test_datagen.flow_from_directory(\n",
    "    test_dir, target_size=(img_size, img_size), batch_size=batch_size, class_mode='sparse', shuffle=False\n",
    ")"
   ]
  },
  {
   "cell_type": "code",
   "execution_count": 21,
   "id": "56ee4355-5c08-46a8-876c-8881b80ec36f",
   "metadata": {},
   "outputs": [
    {
     "name": "stderr",
     "output_type": "stream",
     "text": [
      "C:\\Users\\MSI\\AppData\\Local\\Temp\\ipykernel_22124\\1167848564.py:2: UserWarning: `input_shape` is undefined or non-square, or `rows` is not in [96, 128, 160, 192, 224]. Weights for input shape (224, 224) will be loaded as the default.\n",
      "  base_model = tf.keras.applications.MobileNetV2(\n"
     ]
    },
    {
     "name": "stdout",
     "output_type": "stream",
     "text": [
      "Downloading data from https://storage.googleapis.com/tensorflow/keras-applications/mobilenet_v2/mobilenet_v2_weights_tf_dim_ordering_tf_kernels_1.0_224_no_top.h5\n",
      "\u001b[1m9406464/9406464\u001b[0m \u001b[32m━━━━━━━━━━━━━━━━━━━━\u001b[0m\u001b[37m\u001b[0m \u001b[1m5s\u001b[0m 1us/step\n"
     ]
    }
   ],
   "source": [
    "# *2. Transfer Learning (Base Model)*\n",
    "base_model = tf.keras.applications.MobileNetV2(\n",
    "    input_shape=(img_size, img_size, 3),\n",
    "    include_top=False,\n",
    "    weights='imagenet'\n",
    ")\n",
    "\n",
    "base_model.trainable = False  # Freeze base model"
   ]
  },
  {
   "cell_type": "code",
   "execution_count": 23,
   "id": "5cf0505c-7f38-4921-87de-441ac8c80034",
   "metadata": {},
   "outputs": [],
   "source": [
    "# *3. Model CNN dengan 3x Lapisan Konvolusi*\n",
    "model = models.Sequential([\n",
    "    base_model,\n",
    "    layers.Conv2D(64, (3, 3), activation='relu', padding='same'),  # Layer konvolusi pertama\n",
    "    layers.MaxPooling2D((2, 2), padding='same'),  # Max pooling dengan padding same\n",
    "    layers.Conv2D(128, (3, 3), activation='relu', padding='same'),  # Layer konvolusi kedua\n",
    "    layers.MaxPooling2D((2, 2), padding='same'),  # Max pooling dengan padding same\n",
    "    layers.Conv2D(256, (3, 3), activation='relu', padding='same'),  # Layer konvolusi ketiga\n",
    "    layers.MaxPooling2D((2, 2), padding='same'),  # Max pooling dengan padding same\n",
    "    layers.GlobalAveragePooling2D(),  # Pooling global\n",
    "    layers.Dense(256, activation='relu', kernel_regularizer=tf.keras.regularizers.l2(0.01)),  # Dense layer\n",
    "    layers.Dropout(0.5),  # Dropout untuk regularisasi\n",
    "    layers.Dense(len(train_dataset.class_indices), activation='softmax')  # Output layer\n",
    "])\n",
    "\n",
    "model.compile(\n",
    "    optimizer=tf.keras.optimizers.Adam(learning_rate=0.001),\n",
    "    loss='sparse_categorical_crossentropy',\n",
    "    metrics=['accuracy']\n",
    ")"
   ]
  },
  {
   "cell_type": "code",
   "execution_count": 26,
   "id": "16cadb83-c38e-4b24-8858-982a2e8dc628",
   "metadata": {},
   "outputs": [],
   "source": [
    "# *4. Callback*\n",
    "early_stopping = EarlyStopping(monitor='val_loss', patience=5, restore_best_weights=True)\n",
    "model_checkpoint = ModelCheckpoint('best_model.keras', save_best_only=True)"
   ]
  },
  {
   "cell_type": "code",
   "execution_count": 28,
   "id": "ee941469-e0ae-4fc9-8ad4-237ca2d09c7d",
   "metadata": {},
   "outputs": [
    {
     "name": "stderr",
     "output_type": "stream",
     "text": [
      "D:\\Semester 3\\Certan\\Lib\\site-packages\\keras\\src\\trainers\\data_adapters\\py_dataset_adapter.py:121: UserWarning: Your `PyDataset` class should call `super().__init__(**kwargs)` in its constructor. `**kwargs` can include `workers`, `use_multiprocessing`, `max_queue_size`. Do not pass these arguments to `fit()`, as they will be ignored.\n",
      "  self._warn_if_super_not_called()\n"
     ]
    },
    {
     "name": "stdout",
     "output_type": "stream",
     "text": [
      "Epoch 1/20\n",
      "\u001b[1m125/125\u001b[0m \u001b[32m━━━━━━━━━━━━━━━━━━━━\u001b[0m\u001b[37m\u001b[0m \u001b[1m216s\u001b[0m 2s/step - accuracy: 0.7401 - loss: 2.5764 - val_accuracy: 0.9513 - val_loss: 0.9226\n",
      "Epoch 2/20\n",
      "\u001b[1m125/125\u001b[0m \u001b[32m━━━━━━━━━━━━━━━━━━━━\u001b[0m\u001b[37m\u001b[0m \u001b[1m137s\u001b[0m 1s/step - accuracy: 0.9303 - loss: 0.8370 - val_accuracy: 0.9538 - val_loss: 0.4699\n",
      "Epoch 3/20\n",
      "\u001b[1m125/125\u001b[0m \u001b[32m━━━━━━━━━━━━━━━━━━━━\u001b[0m\u001b[37m\u001b[0m \u001b[1m132s\u001b[0m 1s/step - accuracy: 0.9330 - loss: 0.4804 - val_accuracy: 0.9580 - val_loss: 0.3003\n",
      "Epoch 4/20\n",
      "\u001b[1m125/125\u001b[0m \u001b[32m━━━━━━━━━━━━━━━━━━━━\u001b[0m\u001b[37m\u001b[0m \u001b[1m145s\u001b[0m 1s/step - accuracy: 0.9352 - loss: 0.3306 - val_accuracy: 0.9653 - val_loss: 0.1946\n",
      "Epoch 5/20\n",
      "\u001b[1m125/125\u001b[0m \u001b[32m━━━━━━━━━━━━━━━━━━━━\u001b[0m\u001b[37m\u001b[0m \u001b[1m131s\u001b[0m 1s/step - accuracy: 0.9441 - loss: 0.2455 - val_accuracy: 0.9680 - val_loss: 0.1629\n",
      "Epoch 6/20\n",
      "\u001b[1m125/125\u001b[0m \u001b[32m━━━━━━━━━━━━━━━━━━━━\u001b[0m\u001b[37m\u001b[0m \u001b[1m135s\u001b[0m 1s/step - accuracy: 0.9572 - loss: 0.2022 - val_accuracy: 0.9735 - val_loss: 0.1335\n",
      "Epoch 7/20\n",
      "\u001b[1m125/125\u001b[0m \u001b[32m━━━━━━━━━━━━━━━━━━━━\u001b[0m\u001b[37m\u001b[0m \u001b[1m139s\u001b[0m 1s/step - accuracy: 0.9508 - loss: 0.1932 - val_accuracy: 0.9693 - val_loss: 0.1370\n",
      "Epoch 8/20\n",
      "\u001b[1m125/125\u001b[0m \u001b[32m━━━━━━━━━━━━━━━━━━━━\u001b[0m\u001b[37m\u001b[0m \u001b[1m141s\u001b[0m 1s/step - accuracy: 0.9517 - loss: 0.1832 - val_accuracy: 0.9712 - val_loss: 0.1162\n",
      "Epoch 9/20\n",
      "\u001b[1m125/125\u001b[0m \u001b[32m━━━━━━━━━━━━━━━━━━━━\u001b[0m\u001b[37m\u001b[0m \u001b[1m136s\u001b[0m 1s/step - accuracy: 0.9518 - loss: 0.1688 - val_accuracy: 0.9735 - val_loss: 0.1201\n",
      "Epoch 10/20\n",
      "\u001b[1m125/125\u001b[0m \u001b[32m━━━━━━━━━━━━━━━━━━━━\u001b[0m\u001b[37m\u001b[0m \u001b[1m140s\u001b[0m 1s/step - accuracy: 0.9569 - loss: 0.1550 - val_accuracy: 0.9567 - val_loss: 0.1434\n",
      "Epoch 11/20\n",
      "\u001b[1m125/125\u001b[0m \u001b[32m━━━━━━━━━━━━━━━━━━━━\u001b[0m\u001b[37m\u001b[0m \u001b[1m134s\u001b[0m 1s/step - accuracy: 0.9532 - loss: 0.1703 - val_accuracy: 0.9685 - val_loss: 0.1263\n",
      "Epoch 12/20\n",
      "\u001b[1m125/125\u001b[0m \u001b[32m━━━━━━━━━━━━━━━━━━━━\u001b[0m\u001b[37m\u001b[0m \u001b[1m138s\u001b[0m 1s/step - accuracy: 0.9580 - loss: 0.1525 - val_accuracy: 0.9728 - val_loss: 0.1077\n",
      "Epoch 13/20\n",
      "\u001b[1m125/125\u001b[0m \u001b[32m━━━━━━━━━━━━━━━━━━━━\u001b[0m\u001b[37m\u001b[0m \u001b[1m139s\u001b[0m 1s/step - accuracy: 0.9646 - loss: 0.1365 - val_accuracy: 0.9735 - val_loss: 0.0957\n",
      "Epoch 14/20\n",
      "\u001b[1m125/125\u001b[0m \u001b[32m━━━━━━━━━━━━━━━━━━━━\u001b[0m\u001b[37m\u001b[0m \u001b[1m139s\u001b[0m 1s/step - accuracy: 0.9595 - loss: 0.1481 - val_accuracy: 0.9720 - val_loss: 0.1044\n",
      "Epoch 15/20\n",
      "\u001b[1m125/125\u001b[0m \u001b[32m━━━━━━━━━━━━━━━━━━━━\u001b[0m\u001b[37m\u001b[0m \u001b[1m140s\u001b[0m 1s/step - accuracy: 0.9560 - loss: 0.1624 - val_accuracy: 0.9768 - val_loss: 0.0902\n",
      "Epoch 16/20\n",
      "\u001b[1m125/125\u001b[0m \u001b[32m━━━━━━━━━━━━━━━━━━━━\u001b[0m\u001b[37m\u001b[0m \u001b[1m140s\u001b[0m 1s/step - accuracy: 0.9618 - loss: 0.1414 - val_accuracy: 0.9728 - val_loss: 0.1130\n",
      "Epoch 17/20\n",
      "\u001b[1m125/125\u001b[0m \u001b[32m━━━━━━━━━━━━━━━━━━━━\u001b[0m\u001b[37m\u001b[0m \u001b[1m125s\u001b[0m 999ms/step - accuracy: 0.9611 - loss: 0.1510 - val_accuracy: 0.9790 - val_loss: 0.0842\n",
      "Epoch 18/20\n",
      "\u001b[1m125/125\u001b[0m \u001b[32m━━━━━━━━━━━━━━━━━━━━\u001b[0m\u001b[37m\u001b[0m \u001b[1m126s\u001b[0m 1s/step - accuracy: 0.9637 - loss: 0.1404 - val_accuracy: 0.9755 - val_loss: 0.0910\n",
      "Epoch 19/20\n",
      "\u001b[1m125/125\u001b[0m \u001b[32m━━━━━━━━━━━━━━━━━━━━\u001b[0m\u001b[37m\u001b[0m \u001b[1m144s\u001b[0m 1s/step - accuracy: 0.9657 - loss: 0.1214 - val_accuracy: 0.9780 - val_loss: 0.0815\n",
      "Epoch 20/20\n",
      "\u001b[1m125/125\u001b[0m \u001b[32m━━━━━━━━━━━━━━━━━━━━\u001b[0m\u001b[37m\u001b[0m \u001b[1m141s\u001b[0m 1s/step - accuracy: 0.9616 - loss: 0.1255 - val_accuracy: 0.9787 - val_loss: 0.0802\n"
     ]
    }
   ],
   "source": [
    "# *5. Training*\n",
    "history = model.fit(\n",
    "    train_dataset,\n",
    "    epochs=20,\n",
    "    validation_data=val_dataset,\n",
    "    callbacks=[early_stopping, model_checkpoint]\n",
    ")\n",
    "#"
   ]
  },
  {
   "cell_type": "code",
   "execution_count": 30,
   "id": "6716fc36-56f6-4d01-908e-8fea8978126a",
   "metadata": {},
   "outputs": [
    {
     "name": "stdout",
     "output_type": "stream",
     "text": [
      "Epoch 1/10\n",
      "\u001b[1m125/125\u001b[0m \u001b[32m━━━━━━━━━━━━━━━━━━━━\u001b[0m\u001b[37m\u001b[0m \u001b[1m152s\u001b[0m 1s/step - accuracy: 0.8813 - loss: 0.5772 - val_accuracy: 0.9740 - val_loss: 0.0921\n",
      "Epoch 2/10\n",
      "\u001b[1m125/125\u001b[0m \u001b[32m━━━━━━━━━━━━━━━━━━━━\u001b[0m\u001b[37m\u001b[0m \u001b[1m137s\u001b[0m 1s/step - accuracy: 0.9421 - loss: 0.2145 - val_accuracy: 0.9745 - val_loss: 0.0860\n",
      "Epoch 3/10\n",
      "\u001b[1m125/125\u001b[0m \u001b[32m━━━━━━━━━━━━━━━━━━━━\u001b[0m\u001b[37m\u001b[0m \u001b[1m142s\u001b[0m 1s/step - accuracy: 0.9410 - loss: 0.1874 - val_accuracy: 0.9772 - val_loss: 0.0810\n",
      "Epoch 4/10\n",
      "\u001b[1m125/125\u001b[0m \u001b[32m━━━━━━━━━━━━━━━━━━━━\u001b[0m\u001b[37m\u001b[0m \u001b[1m134s\u001b[0m 1s/step - accuracy: 0.9515 - loss: 0.1599 - val_accuracy: 0.9780 - val_loss: 0.0802\n",
      "Epoch 5/10\n",
      "\u001b[1m125/125\u001b[0m \u001b[32m━━━━━━━━━━━━━━━━━━━━\u001b[0m\u001b[37m\u001b[0m \u001b[1m131s\u001b[0m 1s/step - accuracy: 0.9447 - loss: 0.1627 - val_accuracy: 0.9783 - val_loss: 0.0775\n",
      "Epoch 6/10\n",
      "\u001b[1m125/125\u001b[0m \u001b[32m━━━━━━━━━━━━━━━━━━━━\u001b[0m\u001b[37m\u001b[0m \u001b[1m127s\u001b[0m 1s/step - accuracy: 0.9525 - loss: 0.1598 - val_accuracy: 0.9787 - val_loss: 0.0772\n",
      "Epoch 7/10\n",
      "\u001b[1m125/125\u001b[0m \u001b[32m━━━━━━━━━━━━━━━━━━━━\u001b[0m\u001b[37m\u001b[0m \u001b[1m135s\u001b[0m 1s/step - accuracy: 0.9572 - loss: 0.1454 - val_accuracy: 0.9787 - val_loss: 0.0749\n",
      "Epoch 8/10\n",
      "\u001b[1m125/125\u001b[0m \u001b[32m━━━━━━━━━━━━━━━━━━━━\u001b[0m\u001b[37m\u001b[0m \u001b[1m130s\u001b[0m 1s/step - accuracy: 0.9634 - loss: 0.1388 - val_accuracy: 0.9795 - val_loss: 0.0758\n",
      "Epoch 9/10\n",
      "\u001b[1m125/125\u001b[0m \u001b[32m━━━━━━━━━━━━━━━━━━━━\u001b[0m\u001b[37m\u001b[0m \u001b[1m125s\u001b[0m 1000ms/step - accuracy: 0.9596 - loss: 0.1448 - val_accuracy: 0.9797 - val_loss: 0.0717\n",
      "Epoch 10/10\n",
      "\u001b[1m125/125\u001b[0m \u001b[32m━━━━━━━━━━━━━━━━━━━━\u001b[0m\u001b[37m\u001b[0m \u001b[1m128s\u001b[0m 1s/step - accuracy: 0.9622 - loss: 0.1250 - val_accuracy: 0.9800 - val_loss: 0.0712\n"
     ]
    }
   ],
   "source": [
    "# *6. Fine-Tuning*\n",
    "# Unfreeze beberapa lapisan terakhir\n",
    "base_model.trainable = True\n",
    "for layer in base_model.layers[:-20]:\n",
    "    layer.trainable = False\n",
    "\n",
    "model.compile(\n",
    "    optimizer=tf.keras.optimizers.Adam(learning_rate=1e-5),\n",
    "    loss='sparse_categorical_crossentropy',\n",
    "    metrics=['accuracy']\n",
    ")\n",
    "\n",
    "fine_tune_history = model.fit(\n",
    "    train_dataset,\n",
    "    epochs=10,\n",
    "    validation_data=val_dataset,\n",
    "    callbacks=[early_stopping]\n",
    ")"
   ]
  },
  {
   "cell_type": "code",
   "execution_count": 32,
   "id": "41118754-bdde-415d-bfde-998880c9d402",
   "metadata": {},
   "outputs": [
    {
     "name": "stdout",
     "output_type": "stream",
     "text": [
      "\u001b[1m125/125\u001b[0m \u001b[32m━━━━━━━━━━━━━━━━━━━━\u001b[0m\u001b[37m\u001b[0m \u001b[1m88s\u001b[0m 707ms/step - accuracy: 0.9815 - loss: 0.0727\n",
      "Test Accuracy: 98.00%\n"
     ]
    }
   ],
   "source": [
    "# *7. Evaluasi*\n",
    "test_loss, test_acc = model.evaluate(test_dataset)\n",
    "print(f\"Test Accuracy: {test_acc * 100:.2f}%\")"
   ]
  },
  {
   "cell_type": "code",
   "execution_count": 34,
   "id": "5f5304ab-8042-4084-b7f3-c44f16c29704",
   "metadata": {},
   "outputs": [
    {
     "data": {
      "image/png": "[encoded data removed]",
      "text/plain": [
       "<Figure size 1200x400 with 2 Axes>"
      ]
     },
     "metadata": {},
     "output_type": "display_data"
    }
   ],
   "source": [
    "# *8. Visualisasi*\n",
    "plt.figure(figsize=(12, 4))\n",
    "plt.subplot(1, 2, 1)\n",
    "plt.plot(history.history['accuracy'], label='Training Accuracy')\n",
    "plt.plot(history.history['val_accuracy'], label='Validation Accuracy')\n",
    "plt.plot(fine_tune_history.history['accuracy'], label='Fine-Tuning Accuracy')\n",
    "plt.legend()\n",
    "plt.title('Accuracy')\n",
    "\n",
    "plt.subplot(1, 2, 2)\n",
    "plt.plot(history.history['loss'], label='Training Loss')\n",
    "plt.plot(history.history['val_loss'], label='Validation Loss')\n",
    "plt.plot(fine_tune_history.history['loss'], label='Fine-Tuning Loss')\n",
    "plt.legend()\n",
    "plt.title('Loss')\n",
    "plt.show()"
   ]
  },
  {
   "cell_type": "code",
   "execution_count": 36,
   "id": "8061484a-7d7c-4139-a811-dc5005a1f889",
   "metadata": {},
   "outputs": [],
   "source": [
    "# *9. Save Model*\n",
    "model.save('final_model.keras')"
   ]
  },
  {
   "cell_type": "code",
   "execution_count": 38,
   "id": "2ecbda03-86e5-4af2-99d2-7f1874964c66",
   "metadata": {},
   "outputs": [
    {
     "name": "stdout",
     "output_type": "stream",
     "text": [
      "\u001b[1m125/125\u001b[0m \u001b[32m━━━━━━━━━━━━━━━━━━━━\u001b[0m\u001b[37m\u001b[0m \u001b[1m53s\u001b[0m 406ms/step\n"
     ]
    }
   ],
   "source": [
    "# *10. Confusion Matrix dan Classification Report*\n",
    "predictions = model.predict(test_dataset)\n",
    "predicted_classes = np.argmax(predictions, axis=1)\n",
    "true_classes = test_dataset.classes"
   ]
  },
  {
   "cell_type": "code",
   "execution_count": 40,
   "id": "263d7931-669b-422b-937e-4a569802927f",
   "metadata": {},
   "outputs": [
    {
     "name": "stdout",
     "output_type": "stream",
     "text": [
      "\n",
      "Classification Report:\n",
      "\n",
      "              precision    recall  f1-score   support\n",
      "\n",
      "     CHEETAH       0.97      0.98      0.98      1000\n",
      "     HARIMAU       0.99      1.00      0.99      1000\n",
      " MACAN_TUTUL       0.97      0.97      0.97      1000\n",
      "       SINGA       1.00      0.97      0.98      1000\n",
      "\n",
      "    accuracy                           0.98      4000\n",
      "   macro avg       0.98      0.98      0.98      4000\n",
      "weighted avg       0.98      0.98      0.98      4000\n",
      "\n"
     ]
    }
   ],
   "source": [
    "print(\"\\nClassification Report:\\n\")\n",
    "print(classification_report(true_classes, predicted_classes, target_names=test_dataset.class_indices.keys()))"
   ]
  },
  {
   "cell_type": "code",
   "execution_count": 42,
   "id": "c8952064-d83c-40c7-b931-4929457f0594",
   "metadata": {},
   "outputs": [
    {
     "name": "stdout",
     "output_type": "stream",
     "text": [
      "\n",
      "Confusion Matrix:\n",
      "\n",
      "[[979   0  21   0]\n",
      " [  2 996   1   1]\n",
      " [ 22   1 975   2]\n",
      " [  4  14  12 970]]\n"
     ]
    }
   ],
   "source": [
    "print(\"\\nConfusion Matrix:\\n\")\n",
    "print(confusion_matrix(true_classes, predicted_classes))"
   ]
  },
  {
   "cell_type": "code",
   "execution_count": 44,
   "id": "df95bba9-4728-4997-836d-788b22214fe2",
   "metadata": {},
   "outputs": [],
   "source": [
    "# *RGB Processing*\n",
    "def preprocess_rgb(image_path):\n",
    "    image = tf.keras.utils.load_img(image_path, target_size=(img_size, img_size))\n",
    "    image_array = tf.keras.utils.img_to_array(image)  # Convert image to array\n",
    "    image_array = image_array / 255.0  # Normalize the image\n",
    "    return image_array"
   ]
  },
  {
   "cell_type": "code",
   "execution_count": 56,
   "id": "e2f1b5da-febc-4cb3-8538-8dc5261568b8",
   "metadata": {},
   "outputs": [
    {
     "name": "stdout",
     "output_type": "stream",
     "text": [
      "(180, 180, 3)\n"
     ]
    }
   ],
   "source": [
    "# Contoh pemrosesan gambar RGB\n",
    "image_path = r'D:\\Semester 3\\CertanMatkul\\PROYEK\\HEWAN\\Hewan2\\test\\CHEETAH\\lol.PNG'\n",
    "image_rgb = preprocess_rgb(image_path)\n",
    "print(image_rgb.shape)  # Harus menunjukkan (180, 180, 3) sebagai dimensi RGB"
   ]
  },
  {
   "cell_type": "code",
   "execution_count": 58,
   "id": "03f2e5bf-431c-403f-b206-53a6003b8f40",
   "metadata": {},
   "outputs": [],
   "source": [
    "model = tf.keras.models.load_model('final_model.keras')"
   ]
  },
  {
   "cell_type": "code",
   "execution_count": 3,
   "id": "72d14534-9a67-44ef-84ab-25959b597216",
   "metadata": {},
   "outputs": [],
   "source": [
    "data_train_path = r'D:/Semester 3/CertanMatkul/PROYEK/HEWAN/Hewan2/training'\n",
    "data_test_path = r'D:/Semester 3/CertanMatkul/PROYEK/HEWAN/Hewan2/test'\n",
    "data_val_path = r'D:/Semester 3/CertanMatkul/PROYEK/HEWAN/Hewan2/validation'"
   ]
  },
  {
   "cell_type": "code",
   "execution_count": null,
   "id": "4d3e73bc-6dbd-4062-8555-ba1b426e0d37",
   "metadata": {},
   "outputs": [],
   "source": []
  }
 ],
 "metadata": {
  "kernelspec": {
   "display_name": "Python 3 (ipykernel)",
   "language": "python",
   "name": "python3"
  },
  "language_info": {
   "codemirror_mode": {
    "name": "ipython",
    "version": 3
   },
   "file_extension": ".py",
   "mimetype": "text/x-python",
   "name": "python",
   "nbconvert_exporter": "python",
   "pygments_lexer": "ipython3",
   "version": "3.12.4"
  }
 },
 "nbformat": 4,
 "nbformat_minor": 5
}
