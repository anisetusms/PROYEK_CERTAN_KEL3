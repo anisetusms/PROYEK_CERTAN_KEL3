{
 "cells": [
  {
   "cell_type": "code",
   "execution_count": 7,
   "id": "88419570-d8e3-46b6-b15d-23603ed7ecc2",
   "metadata": {},
   "outputs": [],
   "source": [
    "import numpy as np\n",
    "import pandas as pd\n",
    "import matplotlib.pyplot as plt\n",
    "import tensorflow as tf\n",
    "\n",
    "from tensorflow import keras\n",
    "from tensorflow.keras import layers\n"
   ]
  },
  {
   "cell_type": "code",
   "execution_count": 8,
   "id": "11ded85a-0d0f-449a-9ac0-6b9443d29a1f",
   "metadata": {},
   "outputs": [],
   "source": [
    "data_train_path = r'C:\\Users\\ANISETUS B. MANALU\\CERTAN_YES\\HEWAN\\training'\n",
    "data_test_path = r'C:\\Users\\ANISETUS B. MANALU\\CERTAN_YES\\HEWAN\\test'\n",
    "data_val_path = r'C:\\Users\\ANISETUS B. MANALU\\CERTAN_YES\\HEWAN\\validation'"
   ]
  },
  {
   "cell_type": "code",
   "execution_count": 9,
   "id": "fb828f85-0526-4f10-8bf6-790c5e7cc7fc",
   "metadata": {},
   "outputs": [],
   "source": [
    "img_width = 180\n",
    "img_height =180 "
   ]
  },
  {
   "cell_type": "code",
   "execution_count": 10,
   "id": "74c1e089-1588-4b37-922b-61b7f63942d6",
   "metadata": {},
   "outputs": [
    {
     "name": "stdout",
     "output_type": "stream",
     "text": [
      "Found 1617 files belonging to 4 classes.\n"
     ]
    }
   ],
   "source": [
    "data_train = tf.keras.utils.image_dataset_from_directory(\n",
    "    data_train_path,\n",
    "    shuffle=True,\n",
    "    image_size=(img_width, img_height),\n",
    "    batch_size=32,\n",
    "    validation_split=False)"
   ]
  },
  {
   "cell_type": "code",
   "execution_count": 11,
   "id": "632b852e-9647-41c3-8a0c-d584065f3f9b",
   "metadata": {},
   "outputs": [],
   "source": [
    "data_cat = data_train.class_names"
   ]
  },
  {
   "cell_type": "code",
   "execution_count": 12,
   "id": "d9b34175-04a2-47e7-8016-6d16a260fd02",
   "metadata": {},
   "outputs": [
    {
     "data": {
      "text/plain": [
       "['CHEETAH', 'HARIMAU', 'MACAN_TUTUL', 'SINGA']"
      ]
     },
     "execution_count": 12,
     "metadata": {},
     "output_type": "execute_result"
    }
   ],
   "source": [
    "data_cat"
   ]
  },
  {
   "cell_type": "code",
   "execution_count": 13,
   "id": "00261065-f8c3-4eb2-be7e-891d4ddf8794",
   "metadata": {},
   "outputs": [
    {
     "name": "stdout",
     "output_type": "stream",
     "text": [
      "Found 1617 files belonging to 4 classes.\n"
     ]
    }
   ],
   "source": [
    "data_val = tf.keras.utils.image_dataset_from_directory(data_val_path,\n",
    "                                                       image_size=(img_height,img_width),\n",
    "                                                       batch_size=32,\n",
    "                                                        shuffle=False,\n",
    "                                                       validation_split=False)"
   ]
  },
  {
   "cell_type": "code",
   "execution_count": null,
   "id": "419dc9d0-3e9b-4165-ab78-ea95580b0227",
   "metadata": {},
   "outputs": [],
   "source": [
    "from tensorflow.keras.callbacks import EarlyStopping\n",
    "\n",
    "# Menyiapkan EarlyStopping\n",
    "early_stopping = EarlyStopping(\n",
    "    monitor=\"val_loss\",  # Memantau nilai 'val_loss'\n",
    "    patience=5,  # Menunggu 5 epoch sebelum menghentikan pelatihan\n",
    "    restore_best_weights=True,  # Mengembalikan bobot terbaik saat pelatihan dihentikan\n",
    "    verbose=1  # Memberikan informasi proses\n",
    ")\n",
    "\n",
    "# Latih model tanpa workers dan use_multiprocessing di fit()\n",
    "history = model.fit(\n",
    "    train_generator,\n",
    "    validation_data=val_generator,\n",
    "    epochs=10,\n",
    "    callbacks=[early_stopping],\n",
    "    verbose=1  # Menampilkan progres pelatihan\n",
    ")\n"
   ]
  },
  {
   "cell_type": "code",
   "execution_count": null,
   "id": "6aa83693-fb8d-4bb6-9ccb-c111f3a51a72",
   "metadata": {},
   "outputs": [],
   "source": []
  }
 ],
 "metadata": {
  "kernelspec": {
   "display_name": "Python 3 (ipykernel)",
   "language": "python",
   "name": "python3"
  },
  "language_info": {
   "codemirror_mode": {
    "name": "ipython",
    "version": 3
   },
   "file_extension": ".py",
   "mimetype": "text/x-python",
   "name": "python",
   "nbconvert_exporter": "python",
   "pygments_lexer": "ipython3",
   "version": "3.12.4"
  }
 },
 "nbformat": 4,
 "nbformat_minor": 5
}
