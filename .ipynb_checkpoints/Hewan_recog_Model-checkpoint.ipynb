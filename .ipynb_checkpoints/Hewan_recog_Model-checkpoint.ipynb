{
 "cells": [
  {
   "cell_type": "code",
   "execution_count": 45,
   "id": "20d3dd57-74ff-4071-bfbe-0d9027b6d9e0",
   "metadata": {},
   "outputs": [],
   "source": [
    "#Importing Libraries\n",
    "import os\n",
    "import numpy as np\n",
    "import matplotlib.pyplot as plt\n",
    "\n",
    "import tensorflow as tf\n",
    "from tensorflow.keras import layers\n",
    "from tensorflow.keras.preprocessing.image import load_img, ImageDataGenerator\n",
    "from tensorflow.keras.models import Sequential, load_model\n",
    "from tensorflow.keras.layers import Conv2D, MaxPooling2D, Dense, Dropout, Flatten\n",
    "from tensorflow.keras.models import Sequential\n",
    "from tensorflow.keras.layers import Input\n",
    "from tensorflow.keras.utils import image_dataset_from_directory\n",
    "from PIL import Image"
   ]
  },
  {
   "cell_type": "code",
   "execution_count": 46,
   "id": "f1786731-f672-4da9-aad1-24f29c82460b",
   "metadata": {},
   "outputs": [
    {
     "name": "stdout",
     "output_type": "stream",
     "text": [
      "CHEETAH Folder has 3 Images\n",
      "HARIMAU Folder has 189 Images\n",
      "MACAN_TUTUL Folder has 175 Images\n",
      "SINGA Folder has 181 Images\n",
      "Total Images in Folder: 548\n"
     ]
    }
   ],
   "source": [
    "import os\n",
    "\n",
    "count = 0\n",
    "base_path = r'D:\\KULIAH\\SEMESTER 3\\CERTAN\\PROYEK\\HEWAN'\n",
    "\n",
    "dirs = os.listdir(base_path)\n",
    "\n",
    "valid_extensions = ['.jpg', '.jpeg', '.png']\n",
    "\n",
    "for dir in dirs:\n",
    "    dir_path = os.path.join(base_path, dir)\n",
    "    \n",
    "    # Memastikan hanya direktori yang diproses\n",
    "    if os.path.isdir(dir_path):\n",
    "        files = os.listdir(dir_path)\n",
    "        image_files = [f for f in files if os.path.splitext(f)[1].lower() in valid_extensions]  # Hanya gambar\n",
    "        print(f\"{dir} Folder has {len(image_files)} Images\")\n",
    "        count += len(image_files)\n",
    "\n",
    "print(f\"Total Images in Folder: {count}\")\n"
   ]
  },
  {
   "cell_type": "code",
   "execution_count": 47,
   "id": "30a52524-19d7-4a5b-8783-21cafd85d21a",
   "metadata": {},
   "outputs": [],
   "source": [
    "valid_extensions = ['.jpg', '.jpeg', '.png']"
   ]
  },
  {
   "cell_type": "code",
   "execution_count": 48,
   "id": "fa6ea9b4-112f-4f0c-bdc2-41114bafe0f0",
   "metadata": {},
   "outputs": [],
   "source": [
    "base_path = r'C:\\Users\\ANISETUS B. MANALU\\TEST_CERTAN\\HEWAN'"
   ]
  },
  {
   "cell_type": "code",
   "execution_count": 49,
   "id": "9d6bbd40-d7af-4532-997c-d3a6e37046d3",
   "metadata": {},
   "outputs": [],
   "source": [
    "img_size = 180  # Ukuran gambar (misalnya, 180x180)\n",
    "batch_size = 32 "
   ]
  },
  {
   "cell_type": "code",
   "execution_count": 50,
   "id": "9c36f7c9-161c-4c37-89b5-6719a4ba7e6d",
   "metadata": {},
   "outputs": [
    {
     "name": "stdout",
     "output_type": "stream",
     "text": [
      "Found 548 files belonging to 4 classes.\n",
      "Using 439 files for training.\n",
      "Found 548 files belonging to 4 classes.\n",
      "Using 109 files for validation.\n"
     ]
    }
   ],
   "source": [
    "train_ds = image_dataset_from_directory(\n",
    "    base_path,\n",
    "    validation_split=0.2,\n",
    "    subset=\"training\",\n",
    "    seed=123,\n",
    "    image_size=(img_size, img_size),\n",
    "    batch_size=batch_size\n",
    ")\n",
    "\n",
    "val_ds = image_dataset_from_directory(\n",
    "    base_path,\n",
    "    validation_split=0.2,\n",
    "    subset=\"validation\",\n",
    "    seed=123,\n",
    "    image_size=(img_size, img_size),\n",
    "    batch_size=batch_size\n",
    ")"
   ]
  },
  {
   "cell_type": "code",
   "execution_count": 51,
   "id": "5c574b10-a331-4bfe-9416-b6fd12a97228",
   "metadata": {},
   "outputs": [
    {
     "data": {
      "text/plain": [
       "['CHEETAH', 'HARIMAU', 'MACAN_TUTUL', 'SINGA']"
      ]
     },
     "execution_count": 51,
     "metadata": {},
     "output_type": "execute_result"
    }
   ],
   "source": [
    "hewan_names = train_ds.class_names\n",
    "hewan_names"
   ]
  },
  {
   "cell_type": "code",
   "execution_count": 52,
   "id": "2199b061-fcf3-4039-bec3-3ba0af456459",
   "metadata": {},
   "outputs": [],
   "source": [
    "import matplotlib.pyplot as plt"
   ]
  },
  {
   "cell_type": "code",
   "execution_count": 53,
   "id": "f3c61275-4f95-44d6-ba0c-13730ea695a9",
   "metadata": {},
   "outputs": [],
   "source": [
    "import os\n",
    "from PIL import Image\n",
    "\n",
    "# Path ke dataset\n",
    "base_path = \"path_to_dataset\"  # Ganti dengan path dataset Anda\n",
    "\n",
    "def is_valid_image(file_path):\n",
    "    try:\n",
    "        img = Image.open(file_path)  # Buka file\n",
    "        img.verify()  # Verifikasi file\n",
    "        return True\n",
    "    except (IOError, SyntaxError):\n",
    "        return False\n",
    "\n",
    "# Hapus file yang tidak valid\n",
    "for root, dirs, files in os.walk(base_path):\n",
    "    for file in files:\n",
    "        file_path = os.path.join(root, file)\n",
    "        if not is_valid_image(file_path):\n",
    "            print(f\"Invalid file removed: {file_path}\")\n",
    "            os.remove(file_path)\n"
   ]
  },
  {
   "cell_type": "code",
   "execution_count": 54,
   "id": "b4b6dd4a-886f-41e2-95b1-220ba9b03cc6",
   "metadata": {},
   "outputs": [],
   "source": [
    "base_path = r'C:\\Users\\ANISETUS B. MANALU\\TEST_CERTAN\\HEWAN'"
   ]
  },
  {
   "cell_type": "code",
   "execution_count": 56,
   "id": "38aa0001-f83f-4773-abfe-249a4f20e66a",
   "metadata": {},
   "outputs": [
    {
     "name": "stdout",
     "output_type": "stream",
     "text": [
      "Found 548 files belonging to 4 classes.\n",
      "Using 439 files for training.\n",
      "Found 548 files belonging to 4 classes.\n",
      "Using 109 files for validation.\n"
     ]
    }
   ],
   "source": [
    "import tensorflow as tf\n",
    "from tensorflow.keras.utils import image_dataset_from_directory\n",
    "\n",
    "# Path ke dataset\n",
    "base_path = r'C:\\Users\\ANISETUS B. MANALU\\TEST_CERTAN\\HEWAN' # Ganti dengan path dataset Anda\n",
    "\n",
    "# Parameter\n",
    "img_size = 180  # Ukuran gambar\n",
    "batch_size = 32  # Ukuran batch\n",
    "\n",
    "# Membagi dataset menjadi training dan validation\n",
    "train_ds = image_dataset_from_directory(\n",
    "    base_path,\n",
    "    validation_split=0.2,\n",
    "    subset=\"training\",\n",
    "    seed=123,\n",
    "    image_size=(img_size, img_size),\n",
    "    batch_size=batch_size\n",
    ")\n",
    "\n",
    "val_ds = image_dataset_from_directory(\n",
    "    base_path,\n",
    "    validation_split=0.2,\n",
    "    subset=\"validation\",\n",
    "    seed=123,\n",
    "    image_size=(img_size, img_size),\n",
    "    batch_size=batch_size\n",
    ")\n"
   ]
  },
  {
   "cell_type": "code",
   "execution_count": 57,
   "id": "7ee0ecd1-71bf-4260-b694-cb53e636f3a5",
   "metadata": {},
   "outputs": [],
   "source": [
    "AUTOTUNE = tf.data.AUTOTUNE"
   ]
  },
  {
   "cell_type": "code",
   "execution_count": 58,
   "id": "efc9723f-ab4a-41da-b91e-31d5b11f4c19",
   "metadata": {},
   "outputs": [],
   "source": [
    "train_ds = train_ds.cache().shuffle(1000).prefetch(buffer_size = AUTOTUNE)"
   ]
  },
  {
   "cell_type": "code",
   "execution_count": 59,
   "id": "a99ca2b5-4167-4947-9789-5f7165c0318a",
   "metadata": {},
   "outputs": [],
   "source": [
    "val_ds = val_ds.cache().prefetch(buffer_size = AUTOTUNE)"
   ]
  },
  {
   "cell_type": "code",
   "execution_count": 60,
   "id": "6d879b76-20ad-4a1d-bdb8-aa3611cb8aee",
   "metadata": {},
   "outputs": [
    {
     "name": "stdout",
     "output_type": "stream",
     "text": [
      "Found 548 files belonging to 4 classes.\n",
      "Using 439 files for training.\n",
      "Found 548 files belonging to 4 classes.\n",
      "Using 109 files for validation.\n",
      "Dataset berhasil dimuat dan dioptimalkan!\n"
     ]
    }
   ],
   "source": [
    "# Lokasi dataset\n",
    "dataset_path = r\"D:\\KULIAH\\SEMESTER 3\\CERTAN\\PROYEK\\HEWAN\"\n",
    "\n",
    "# Konfigurasi dataset\n",
    "image_size = (224, 224)  # Ukuran gambar (tinggi, lebar)\n",
    "batch_size = 32  # Ukuran batch untuk pelatihan\n",
    "\n",
    "# Membuat dataset pelatihan\n",
    "train_ds = image_dataset_from_directory(\n",
    "    dataset_path,\n",
    "    validation_split=0.2,  # 20% data untuk validasi\n",
    "    subset=\"training\",\n",
    "    seed=123,  # Seed untuk shuffling konsisten\n",
    "    image_size=image_size,\n",
    "    batch_size=batch_size,\n",
    ")\n",
    "\n",
    "# Membuat dataset validasi\n",
    "val_ds = image_dataset_from_directory(\n",
    "    dataset_path,\n",
    "    validation_split=0.2,\n",
    "    subset=\"validation\",\n",
    "    seed=123,\n",
    "    image_size=image_size,\n",
    "    batch_size=batch_size,\n",
    ")\n",
    "\n",
    "# Optimasi pipeline dataset\n",
    "AUTOTUNE = tf.data.AUTOTUNE\n",
    "\n",
    "train_ds = (\n",
    "    train_ds\n",
    "    .cache()  # Cache dataset untuk mempercepat akses\n",
    "    .shuffle(1000)  # Shuffle dataset\n",
    "    .prefetch(buffer_size=AUTOTUNE)  # Prefetch data untuk efisiensi\n",
    ")\n",
    "\n",
    "val_ds = (\n",
    "    val_ds\n",
    "    .cache()\n",
    "    .prefetch(buffer_size=AUTOTUNE)\n",
    ")\n",
    "\n",
    "print(\"Dataset berhasil dimuat dan dioptimalkan!\")\n"
   ]
  },
  {
   "cell_type": "code",
   "execution_count": 61,
   "id": "7df13168-dfb0-418d-b375-82a209928411",
   "metadata": {},
   "outputs": [
    {
     "name": "stdout",
     "output_type": "stream",
     "text": [
      "Total valid files: 548\n"
     ]
    }
   ],
   "source": [
    "valid_formats = (\".jpg\", \".jpeg\", \".png\", \".bmp\")\n",
    "\n",
    "# Jalur direktori data\n",
    "data_dir = r'D:\\KULIAH\\SEMESTER 3\\CERTAN\\PROYEK\\HEWAN'\n",
    "\n",
    "# Menyaring file yang valid\n",
    "def is_valid_file(file_path):\n",
    "    return file_path.lower().endswith(valid_formats)\n",
    "\n",
    "valid_files = [\n",
    "    os.path.join(root, file)\n",
    "    for root, _, files in os.walk(data_dir)\n",
    "    for file in files if is_valid_file(file)\n",
    "]\n",
    "\n",
    "print(f\"Total valid files: {len(valid_files)}\")"
   ]
  },
  {
   "cell_type": "code",
   "execution_count": 63,
   "id": "7df6a3bb-a229-4b9a-8252-891322c551b2",
   "metadata": {},
   "outputs": [
    {
     "name": "stdout",
     "output_type": "stream",
     "text": [
      "['CHEETAH', 'HARIMAU', 'MACAN_TUTUL', 'SINGA']\n"
     ]
    }
   ],
   "source": [
    "print(image_files[:10])"
   ]
  },
  {
   "cell_type": "code",
   "execution_count": 66,
   "id": "05b2afa8-3786-4e2d-851f-2d78e9c60c59",
   "metadata": {},
   "outputs": [
    {
     "name": "stdout",
     "output_type": "stream",
     "text": [
      "HARIMAU\u0001.jpg tidak ditemukan.\n"
     ]
    }
   ],
   "source": [
    "import os\n",
    "\n",
    "# Periksa apakah file ada dalam direktori\n",
    "base_path = \"C:/Users/ANISETUS B. MANALU/TEST_CERTAN/HEWAN/HARIMAU\"\n",
    "image_name = 'aku.jpg'\n",
    "\n",
    "if os.path.exists(os.path.join(base_path, image_name)):\n",
    "    print(f\"{image_name} ditemukan!\")\n",
    "else:\n",
    "    print(f\"{image_name} tidak ditemukan.\")\n"
   ]
  },
  {
   "cell_type": "code",
   "execution_count": null,
   "id": "9f8738b3-53c2-4245-89a7-60a232736ff3",
   "metadata": {},
   "outputs": [],
   "source": [
    "i = 0\n",
    "plt.figure(figsize=(10,10))\n",
    "\n",
    "for images, labels in train_ds.take(1):\n",
    "    for i in range(9):\n",
    "        images = data_augmentation(images)\n",
    "        plt.subplot(3,3, i+1)\n",
    "        plt.imshow(images[0].numpy().astype('uint8'))\n",
    "        plt.axis('off')"
   ]
  },
  {
   "cell_type": "code",
   "execution_count": 33,
   "id": "ed7064f1-c630-4533-bb24-e1b5aa8388d3",
   "metadata": {},
   "outputs": [],
   "source": [
    "model = Sequential([\n",
    "    data_augmentation,\n",
    "    layers.Rescaling(1./255),\n",
    "    Conv2D(16, 3, padding='same', activation='relu'),\n",
    "    MaxPooling2D(),\n",
    "    Conv2D(32, 3, padding='same', activation='relu'),\n",
    "    MaxPooling2D(),\n",
    "    Conv2D(64, 3, padding='same', activation='relu'),\n",
    "    MaxPooling2D(),\n",
    "    Dropout(0.2),\n",
    "    Flatten(),\n",
    "    Dense(128, activation='relu'),\n",
    "    Dense(5)\n",
    "])"
   ]
  },
  {
   "cell_type": "code",
   "execution_count": 38,
   "id": "38c89601-398a-4870-ab32-c8a5134fed09",
   "metadata": {},
   "outputs": [],
   "source": [
    "model.compile(optimizer='adam',\n",
    "              loss=tf.keras.losses.SparseCategoricalCrossentropy(from_logits=True),\n",
    "              metrics=['accuracy'])"
   ]
  },
  {
   "cell_type": "code",
   "execution_count": 39,
   "id": "495a1fb9-edb5-41db-8f9b-bb27192e3fd0",
   "metadata": {},
   "outputs": [
    {
     "data": {
      "text/html": [
       "<pre style=\"white-space:pre;overflow-x:auto;line-height:normal;font-family:Menlo,'DejaVu Sans Mono',consolas,'Courier New',monospace\"><span style=\"font-weight: bold\">Model: \"sequential_4\"</span>\n",
       "</pre>\n"
      ],
      "text/plain": [
       "\u001b[1mModel: \"sequential_4\"\u001b[0m\n"
      ]
     },
     "metadata": {},
     "output_type": "display_data"
    },
    {
     "data": {
      "text/html": [
       "<pre style=\"white-space:pre;overflow-x:auto;line-height:normal;font-family:Menlo,'DejaVu Sans Mono',consolas,'Courier New',monospace\">┏━━━━━━━━━━━━━━━━━━━━━━━━━━━━━━━━━━━━━━┳━━━━━━━━━━━━━━━━━━━━━━━━━━━━━┳━━━━━━━━━━━━━━━━━┓\n",
       "┃<span style=\"font-weight: bold\"> Layer (type)                         </span>┃<span style=\"font-weight: bold\"> Output Shape                </span>┃<span style=\"font-weight: bold\">         Param # </span>┃\n",
       "┡━━━━━━━━━━━━━━━━━━━━━━━━━━━━━━━━━━━━━━╇━━━━━━━━━━━━━━━━━━━━━━━━━━━━━╇━━━━━━━━━━━━━━━━━┩\n",
       "│ flatten_1 (<span style=\"color: #0087ff; text-decoration-color: #0087ff\">Flatten</span>)                  │ (<span style=\"color: #00d7ff; text-decoration-color: #00d7ff\">None</span>, <span style=\"color: #00af00; text-decoration-color: #00af00\">784</span>)                 │               <span style=\"color: #00af00; text-decoration-color: #00af00\">0</span> │\n",
       "├──────────────────────────────────────┼─────────────────────────────┼─────────────────┤\n",
       "│ dense_2 (<span style=\"color: #0087ff; text-decoration-color: #0087ff\">Dense</span>)                      │ (<span style=\"color: #00d7ff; text-decoration-color: #00d7ff\">None</span>, <span style=\"color: #00af00; text-decoration-color: #00af00\">128</span>)                 │         <span style=\"color: #00af00; text-decoration-color: #00af00\">100,480</span> │\n",
       "├──────────────────────────────────────┼─────────────────────────────┼─────────────────┤\n",
       "│ dense_3 (<span style=\"color: #0087ff; text-decoration-color: #0087ff\">Dense</span>)                      │ (<span style=\"color: #00d7ff; text-decoration-color: #00d7ff\">None</span>, <span style=\"color: #00af00; text-decoration-color: #00af00\">64</span>)                  │           <span style=\"color: #00af00; text-decoration-color: #00af00\">8,256</span> │\n",
       "├──────────────────────────────────────┼─────────────────────────────┼─────────────────┤\n",
       "│ dense_4 (<span style=\"color: #0087ff; text-decoration-color: #0087ff\">Dense</span>)                      │ (<span style=\"color: #00d7ff; text-decoration-color: #00d7ff\">None</span>, <span style=\"color: #00af00; text-decoration-color: #00af00\">10</span>)                  │             <span style=\"color: #00af00; text-decoration-color: #00af00\">650</span> │\n",
       "└──────────────────────────────────────┴─────────────────────────────┴─────────────────┘\n",
       "</pre>\n"
      ],
      "text/plain": [
       "┏━━━━━━━━━━━━━━━━━━━━━━━━━━━━━━━━━━━━━━┳━━━━━━━━━━━━━━━━━━━━━━━━━━━━━┳━━━━━━━━━━━━━━━━━┓\n",
       "┃\u001b[1m \u001b[0m\u001b[1mLayer (type)                        \u001b[0m\u001b[1m \u001b[0m┃\u001b[1m \u001b[0m\u001b[1mOutput Shape               \u001b[0m\u001b[1m \u001b[0m┃\u001b[1m \u001b[0m\u001b[1m        Param #\u001b[0m\u001b[1m \u001b[0m┃\n",
       "┡━━━━━━━━━━━━━━━━━━━━━━━━━━━━━━━━━━━━━━╇━━━━━━━━━━━━━━━━━━━━━━━━━━━━━╇━━━━━━━━━━━━━━━━━┩\n",
       "│ flatten_1 (\u001b[38;5;33mFlatten\u001b[0m)                  │ (\u001b[38;5;45mNone\u001b[0m, \u001b[38;5;34m784\u001b[0m)                 │               \u001b[38;5;34m0\u001b[0m │\n",
       "├──────────────────────────────────────┼─────────────────────────────┼─────────────────┤\n",
       "│ dense_2 (\u001b[38;5;33mDense\u001b[0m)                      │ (\u001b[38;5;45mNone\u001b[0m, \u001b[38;5;34m128\u001b[0m)                 │         \u001b[38;5;34m100,480\u001b[0m │\n",
       "├──────────────────────────────────────┼─────────────────────────────┼─────────────────┤\n",
       "│ dense_3 (\u001b[38;5;33mDense\u001b[0m)                      │ (\u001b[38;5;45mNone\u001b[0m, \u001b[38;5;34m64\u001b[0m)                  │           \u001b[38;5;34m8,256\u001b[0m │\n",
       "├──────────────────────────────────────┼─────────────────────────────┼─────────────────┤\n",
       "│ dense_4 (\u001b[38;5;33mDense\u001b[0m)                      │ (\u001b[38;5;45mNone\u001b[0m, \u001b[38;5;34m10\u001b[0m)                  │             \u001b[38;5;34m650\u001b[0m │\n",
       "└──────────────────────────────────────┴─────────────────────────────┴─────────────────┘\n"
      ]
     },
     "metadata": {},
     "output_type": "display_data"
    },
    {
     "data": {
      "text/html": [
       "<pre style=\"white-space:pre;overflow-x:auto;line-height:normal;font-family:Menlo,'DejaVu Sans Mono',consolas,'Courier New',monospace\"><span style=\"font-weight: bold\"> Total params: </span><span style=\"color: #00af00; text-decoration-color: #00af00\">109,386</span> (427.29 KB)\n",
       "</pre>\n"
      ],
      "text/plain": [
       "\u001b[1m Total params: \u001b[0m\u001b[38;5;34m109,386\u001b[0m (427.29 KB)\n"
      ]
     },
     "metadata": {},
     "output_type": "display_data"
    },
    {
     "data": {
      "text/html": [
       "<pre style=\"white-space:pre;overflow-x:auto;line-height:normal;font-family:Menlo,'DejaVu Sans Mono',consolas,'Courier New',monospace\"><span style=\"font-weight: bold\"> Trainable params: </span><span style=\"color: #00af00; text-decoration-color: #00af00\">109,386</span> (427.29 KB)\n",
       "</pre>\n"
      ],
      "text/plain": [
       "\u001b[1m Trainable params: \u001b[0m\u001b[38;5;34m109,386\u001b[0m (427.29 KB)\n"
      ]
     },
     "metadata": {},
     "output_type": "display_data"
    },
    {
     "data": {
      "text/html": [
       "<pre style=\"white-space:pre;overflow-x:auto;line-height:normal;font-family:Menlo,'DejaVu Sans Mono',consolas,'Courier New',monospace\"><span style=\"font-weight: bold\"> Non-trainable params: </span><span style=\"color: #00af00; text-decoration-color: #00af00\">0</span> (0.00 B)\n",
       "</pre>\n"
      ],
      "text/plain": [
       "\u001b[1m Non-trainable params: \u001b[0m\u001b[38;5;34m0\u001b[0m (0.00 B)\n"
      ]
     },
     "metadata": {},
     "output_type": "display_data"
    }
   ],
   "source": [
    "model.summary()\n"
   ]
  },
  {
   "cell_type": "code",
   "execution_count": 41,
   "id": "4c7207a3-85c3-465d-8fd6-c3ddc74d4a8c",
   "metadata": {},
   "outputs": [],
   "source": [
    "import tensorflow as tf\n",
    "from tensorflow.keras.models import Sequential\n",
    "from tensorflow.keras.layers import Dense, Flatten\n",
    "import matplotlib.pyplot as plt\n",
    "\n",
    "# Memuat dataset MNIST\n",
    "(x_train, y_train), (x_test, y_test) = tf.keras.datasets.mnist.load_data()\n",
    "\n",
    "# Normalisasi data\n",
    "x_train = x_train / 255.0\n",
    "x_test = x_test / 255.0\n",
    "\n",
    "# Membuat dataset TensorFlow\n",
    "train_ds = tf.data.Dataset.from_tensor_slices((x_train, y_train)).batch(32).shuffle(10000)\n",
    "val_ds = tf.data.Dataset.from_tensor_slices((x_test, y_test)).batch(32)\n"
   ]
  },
  {
   "cell_type": "code",
   "execution_count": 42,
   "id": "0229ed73-852d-4291-8027-f1a15dc4cb04",
   "metadata": {},
   "outputs": [
    {
     "name": "stdout",
     "output_type": "stream",
     "text": [
      "Epoch 1/15\n",
      "\u001b[1m1875/1875\u001b[0m \u001b[32m━━━━━━━━━━━━━━━━━━━━\u001b[0m\u001b[37m\u001b[0m \u001b[1m18s\u001b[0m 6ms/step - accuracy: 0.8747 - loss: 0.4343 - val_accuracy: 0.9588 - val_loss: 0.1427\n",
      "Epoch 2/15\n",
      "\u001b[1m1875/1875\u001b[0m \u001b[32m━━━━━━━━━━━━━━━━━━━━\u001b[0m\u001b[37m\u001b[0m \u001b[1m11s\u001b[0m 6ms/step - accuracy: 0.9650 - loss: 0.1178 - val_accuracy: 0.9702 - val_loss: 0.0957\n",
      "Epoch 3/15\n",
      "\u001b[1m1875/1875\u001b[0m \u001b[32m━━━━━━━━━━━━━━━━━━━━\u001b[0m\u001b[37m\u001b[0m \u001b[1m12s\u001b[0m 6ms/step - accuracy: 0.9770 - loss: 0.0773 - val_accuracy: 0.9740 - val_loss: 0.0866\n",
      "Epoch 4/15\n",
      "\u001b[1m1875/1875\u001b[0m \u001b[32m━━━━━━━━━━━━━━━━━━━━\u001b[0m\u001b[37m\u001b[0m \u001b[1m11s\u001b[0m 6ms/step - accuracy: 0.9831 - loss: 0.0576 - val_accuracy: 0.9777 - val_loss: 0.0742\n",
      "Epoch 5/15\n",
      "\u001b[1m1875/1875\u001b[0m \u001b[32m━━━━━━━━━━━━━━━━━━━━\u001b[0m\u001b[37m\u001b[0m \u001b[1m11s\u001b[0m 5ms/step - accuracy: 0.9872 - loss: 0.0413 - val_accuracy: 0.9750 - val_loss: 0.0850\n",
      "Epoch 6/15\n",
      "\u001b[1m1875/1875\u001b[0m \u001b[32m━━━━━━━━━━━━━━━━━━━━\u001b[0m\u001b[37m\u001b[0m \u001b[1m11s\u001b[0m 6ms/step - accuracy: 0.9896 - loss: 0.0338 - val_accuracy: 0.9788 - val_loss: 0.0725\n",
      "Epoch 7/15\n",
      "\u001b[1m1875/1875\u001b[0m \u001b[32m━━━━━━━━━━━━━━━━━━━━\u001b[0m\u001b[37m\u001b[0m \u001b[1m12s\u001b[0m 6ms/step - accuracy: 0.9923 - loss: 0.0260 - val_accuracy: 0.9750 - val_loss: 0.0837\n",
      "Epoch 8/15\n",
      "\u001b[1m1875/1875\u001b[0m \u001b[32m━━━━━━━━━━━━━━━━━━━━\u001b[0m\u001b[37m\u001b[0m \u001b[1m12s\u001b[0m 6ms/step - accuracy: 0.9931 - loss: 0.0220 - val_accuracy: 0.9774 - val_loss: 0.0798\n",
      "Epoch 9/15\n",
      "\u001b[1m1875/1875\u001b[0m \u001b[32m━━━━━━━━━━━━━━━━━━━━\u001b[0m\u001b[37m\u001b[0m \u001b[1m12s\u001b[0m 6ms/step - accuracy: 0.9951 - loss: 0.0164 - val_accuracy: 0.9753 - val_loss: 0.0889\n",
      "Epoch 10/15\n",
      "\u001b[1m1875/1875\u001b[0m \u001b[32m━━━━━━━━━━━━━━━━━━━━\u001b[0m\u001b[37m\u001b[0m \u001b[1m11s\u001b[0m 6ms/step - accuracy: 0.9959 - loss: 0.0138 - val_accuracy: 0.9798 - val_loss: 0.0756\n",
      "Epoch 11/15\n",
      "\u001b[1m1875/1875\u001b[0m \u001b[32m━━━━━━━━━━━━━━━━━━━━\u001b[0m\u001b[37m\u001b[0m \u001b[1m21s\u001b[0m 6ms/step - accuracy: 0.9969 - loss: 0.0110 - val_accuracy: 0.9794 - val_loss: 0.0825\n",
      "Epoch 12/15\n",
      "\u001b[1m1875/1875\u001b[0m \u001b[32m━━━━━━━━━━━━━━━━━━━━\u001b[0m\u001b[37m\u001b[0m \u001b[1m11s\u001b[0m 6ms/step - accuracy: 0.9973 - loss: 0.0094 - val_accuracy: 0.9797 - val_loss: 0.0807\n",
      "Epoch 13/15\n",
      "\u001b[1m1875/1875\u001b[0m \u001b[32m━━━━━━━━━━━━━━━━━━━━\u001b[0m\u001b[37m\u001b[0m \u001b[1m11s\u001b[0m 6ms/step - accuracy: 0.9973 - loss: 0.0084 - val_accuracy: 0.9813 - val_loss: 0.0809\n",
      "Epoch 14/15\n",
      "\u001b[1m1875/1875\u001b[0m \u001b[32m━━━━━━━━━━━━━━━━━━━━\u001b[0m\u001b[37m\u001b[0m \u001b[1m11s\u001b[0m 6ms/step - accuracy: 0.9982 - loss: 0.0066 - val_accuracy: 0.9778 - val_loss: 0.1008\n",
      "Epoch 15/15\n",
      "\u001b[1m1875/1875\u001b[0m \u001b[32m━━━━━━━━━━━━━━━━━━━━\u001b[0m\u001b[37m\u001b[0m \u001b[1m12s\u001b[0m 6ms/step - accuracy: 0.9977 - loss: 0.0068 - val_accuracy: 0.9797 - val_loss: 0.0981\n"
     ]
    }
   ],
   "source": [
    "# Membuat model\n",
    "model = Sequential([\n",
    "    InputLayer(input_shape=(180, 180, 3)),  \n",
    "    Flatten(),\n",
    "    Dense(128, activation='relu'),\n",
    "    Dense(10, activation='softmax')\n",
    "])\n",
    "\n",
    "\n",
    "# Kompilasi model\n",
    "model.compile(optimizer='adam',\n",
    "              loss='sparse_categorical_crossentropy',\n",
    "              metrics=['accuracy'])\n",
    "\n",
    "# Melatih model\n",
    "history = model.fit(train_ds, epochs=15, validation_data=val_ds)\n"
   ]
  },
  {
   "cell_type": "code",
   "execution_count": 43,
   "id": "956a2433-c2b4-48b3-8a55-7956275160bd",
   "metadata": {},
   "outputs": [
    {
     "data": {
      "image/png": "[encoded data removed]",
      "text/plain": [
       "<Figure size 1200x600 with 2 Axes>"
      ]
     },
     "metadata": {},
     "output_type": "display_data"
    }
   ],
   "source": [
    "# Grafik Akurasi\n",
    "plt.figure(figsize=(12, 6))\n",
    "\n",
    "# Akurasi pelatihan dan validasi\n",
    "plt.subplot(1, 2, 1)\n",
    "plt.plot(history.history['accuracy'], label='Training Accuracy')\n",
    "plt.plot(history.history['val_accuracy'], label='Validation Accuracy')\n",
    "plt.xlabel('Epochs')\n",
    "plt.ylabel('Accuracy')\n",
    "plt.title('Training and Validation Accuracy')\n",
    "plt.legend()\n",
    "\n",
    "# Kehilangan pelatihan dan validasi\n",
    "plt.subplot(1, 2, 2)\n",
    "plt.plot(history.history['loss'], label='Training Loss')\n",
    "plt.plot(history.history['val_loss'], label='Validation Loss')\n",
    "plt.xlabel('Epochs')\n",
    "plt.ylabel('Loss')\n",
    "plt.title('Training and Validation Loss')\n",
    "plt.legend()\n",
    "\n",
    "plt.tight_layout()\n",
    "plt.show()\n"
   ]
  },
  {
   "cell_type": "code",
   "execution_count": 44,
   "id": "28489951-19ce-494f-8888-431b45a0a22b",
   "metadata": {},
   "outputs": [],
   "source": [
    "image_path = r'D:\\KULIAH\\SEMESTER 3\\CERTAN\\PROYEK\\HEWAN\\SINGA\\lol.jpg'"
   ]
  },
  {
   "cell_type": "code",
   "execution_count": 46,
   "id": "c0fa282a-1597-434d-b18a-c2f768d17467",
   "metadata": {},
   "outputs": [],
   "source": [
    "model.save('Hewan_Recog_Model.keras')"
   ]
  },
  {
   "cell_type": "code",
   "execution_count": 47,
   "id": "e3b6f91e-afb9-4cbe-bb39-3012a8f609e6",
   "metadata": {},
   "outputs": [],
   "source": [
    "model = tf.keras.models.load_model('Hewan_Recog_Model.keras')\n"
   ]
  },
  {
   "cell_type": "code",
   "execution_count": null,
   "id": "c3b77922-8da5-4d85-81b2-da6717666560",
   "metadata": {},
   "outputs": [],
   "source": []
  }
 ],
 "metadata": {
  "kernelspec": {
   "display_name": "Python 3 (ipykernel)",
   "language": "python",
   "name": "python3"
  },
  "language_info": {
   "codemirror_mode": {
    "name": "ipython",
    "version": 3
   },
   "file_extension": ".py",
   "mimetype": "text/x-python",
   "name": "python",
   "nbconvert_exporter": "python",
   "pygments_lexer": "ipython3",
   "version": "3.12.4"
  }
 },
 "nbformat": 4,
 "nbformat_minor": 5
}
